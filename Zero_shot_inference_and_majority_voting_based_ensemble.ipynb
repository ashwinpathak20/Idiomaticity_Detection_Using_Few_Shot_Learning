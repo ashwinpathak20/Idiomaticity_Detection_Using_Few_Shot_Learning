{
  "nbformat": 4,
  "nbformat_minor": 0,
  "metadata": {
    "colab": {
      "name": "Zero_shot_inference_and_majority_voting_based_ensemble.ipynb",
      "provenance": [],
      "collapsed_sections": []
    },
    "kernelspec": {
      "name": "python3",
      "display_name": "Python 3"
    },
    "language_info": {
      "name": "python"
    }
  },
  "cells": [
    {
      "cell_type": "code",
      "execution_count": 1,
      "metadata": {
        "id": "HxzP7eQOMRSx"
      },
      "outputs": [],
      "source": [
        "import pandas as pd"
      ]
    },
    {
      "cell_type": "code",
      "source": [
        "dev_gold_label = pd.read_csv(\"/content/dev_gold.csv\")"
      ],
      "metadata": {
        "id": "fVMl2gGrPNgk"
      },
      "execution_count": 2,
      "outputs": []
    },
    {
      "cell_type": "code",
      "source": [
        "dev_gold_label"
      ],
      "metadata": {
        "colab": {
          "base_uri": "https://localhost:8080/",
          "height": 423
        },
        "id": "zT1G5PqdYBZU",
        "outputId": "b7bcef21-6fb0-4ed2-f2fb-cedcaaa19813"
      },
      "execution_count": 15,
      "outputs": [
        {
          "output_type": "execute_result",
          "data": {
            "text/html": [
              "<div>\n",
              "<style scoped>\n",
              "    .dataframe tbody tr th:only-of-type {\n",
              "        vertical-align: middle;\n",
              "    }\n",
              "\n",
              "    .dataframe tbody tr th {\n",
              "        vertical-align: top;\n",
              "    }\n",
              "\n",
              "    .dataframe thead th {\n",
              "        text-align: right;\n",
              "    }\n",
              "</style>\n",
              "<table border=\"1\" class=\"dataframe\">\n",
              "  <thead>\n",
              "    <tr style=\"text-align: right;\">\n",
              "      <th></th>\n",
              "      <th>ID</th>\n",
              "      <th>DataID</th>\n",
              "      <th>Language</th>\n",
              "      <th>Label</th>\n",
              "    </tr>\n",
              "  </thead>\n",
              "  <tbody>\n",
              "    <tr>\n",
              "      <th>0</th>\n",
              "      <td>3652</td>\n",
              "      <td>dev.EN.147.1</td>\n",
              "      <td>EN</td>\n",
              "      <td>1</td>\n",
              "    </tr>\n",
              "    <tr>\n",
              "      <th>1</th>\n",
              "      <td>11103</td>\n",
              "      <td>dev.EN.147.2</td>\n",
              "      <td>EN</td>\n",
              "      <td>1</td>\n",
              "    </tr>\n",
              "    <tr>\n",
              "      <th>2</th>\n",
              "      <td>84346</td>\n",
              "      <td>dev.EN.147.3</td>\n",
              "      <td>EN</td>\n",
              "      <td>1</td>\n",
              "    </tr>\n",
              "    <tr>\n",
              "      <th>3</th>\n",
              "      <td>56279</td>\n",
              "      <td>dev.EN.147.4</td>\n",
              "      <td>EN</td>\n",
              "      <td>1</td>\n",
              "    </tr>\n",
              "    <tr>\n",
              "      <th>4</th>\n",
              "      <td>17886</td>\n",
              "      <td>dev.EN.147.5</td>\n",
              "      <td>EN</td>\n",
              "      <td>1</td>\n",
              "    </tr>\n",
              "    <tr>\n",
              "      <th>...</th>\n",
              "      <td>...</td>\n",
              "      <td>...</td>\n",
              "      <td>...</td>\n",
              "      <td>...</td>\n",
              "    </tr>\n",
              "    <tr>\n",
              "      <th>461</th>\n",
              "      <td>95264</td>\n",
              "      <td>dev.EN.275.5</td>\n",
              "      <td>EN</td>\n",
              "      <td>0</td>\n",
              "    </tr>\n",
              "    <tr>\n",
              "      <th>462</th>\n",
              "      <td>39232</td>\n",
              "      <td>dev.EN.275.6</td>\n",
              "      <td>EN</td>\n",
              "      <td>0</td>\n",
              "    </tr>\n",
              "    <tr>\n",
              "      <th>463</th>\n",
              "      <td>77031</td>\n",
              "      <td>dev.EN.275.7</td>\n",
              "      <td>EN</td>\n",
              "      <td>0</td>\n",
              "    </tr>\n",
              "    <tr>\n",
              "      <th>464</th>\n",
              "      <td>76111</td>\n",
              "      <td>dev.EN.275.8</td>\n",
              "      <td>EN</td>\n",
              "      <td>0</td>\n",
              "    </tr>\n",
              "    <tr>\n",
              "      <th>465</th>\n",
              "      <td>86599</td>\n",
              "      <td>dev.EN.275.9</td>\n",
              "      <td>EN</td>\n",
              "      <td>0</td>\n",
              "    </tr>\n",
              "  </tbody>\n",
              "</table>\n",
              "<p>466 rows × 4 columns</p>\n",
              "</div>"
            ],
            "text/plain": [
              "        ID        DataID Language  Label\n",
              "0     3652  dev.EN.147.1       EN      1\n",
              "1    11103  dev.EN.147.2       EN      1\n",
              "2    84346  dev.EN.147.3       EN      1\n",
              "3    56279  dev.EN.147.4       EN      1\n",
              "4    17886  dev.EN.147.5       EN      1\n",
              "..     ...           ...      ...    ...\n",
              "461  95264  dev.EN.275.5       EN      0\n",
              "462  39232  dev.EN.275.6       EN      0\n",
              "463  77031  dev.EN.275.7       EN      0\n",
              "464  76111  dev.EN.275.8       EN      0\n",
              "465  86599  dev.EN.275.9       EN      0\n",
              "\n",
              "[466 rows x 4 columns]"
            ]
          },
          "metadata": {},
          "execution_count": 15
        }
      ]
    },
    {
      "cell_type": "code",
      "source": [
        "xlm_net_base_result = pd.read_csv(\"/content/test_results_None_xlm_net.txt\",sep='\\t')"
      ],
      "metadata": {
        "id": "GlAxfnYVYCRA"
      },
      "execution_count": 4,
      "outputs": []
    },
    {
      "cell_type": "code",
      "source": [
        "xlm_net_base_result"
      ],
      "metadata": {
        "colab": {
          "base_uri": "https://localhost:8080/",
          "height": 423
        },
        "id": "XBwRlYRGYXAB",
        "outputId": "52d26e10-d91a-4fb3-e789-82e4560bd8a1"
      },
      "execution_count": 5,
      "outputs": [
        {
          "output_type": "execute_result",
          "data": {
            "text/html": [
              "<div>\n",
              "<style scoped>\n",
              "    .dataframe tbody tr th:only-of-type {\n",
              "        vertical-align: middle;\n",
              "    }\n",
              "\n",
              "    .dataframe tbody tr th {\n",
              "        vertical-align: top;\n",
              "    }\n",
              "\n",
              "    .dataframe thead th {\n",
              "        text-align: right;\n",
              "    }\n",
              "</style>\n",
              "<table border=\"1\" class=\"dataframe\">\n",
              "  <thead>\n",
              "    <tr style=\"text-align: right;\">\n",
              "      <th></th>\n",
              "      <th>index</th>\n",
              "      <th>prediction</th>\n",
              "    </tr>\n",
              "  </thead>\n",
              "  <tbody>\n",
              "    <tr>\n",
              "      <th>0</th>\n",
              "      <td>0</td>\n",
              "      <td>0</td>\n",
              "    </tr>\n",
              "    <tr>\n",
              "      <th>1</th>\n",
              "      <td>1</td>\n",
              "      <td>0</td>\n",
              "    </tr>\n",
              "    <tr>\n",
              "      <th>2</th>\n",
              "      <td>2</td>\n",
              "      <td>0</td>\n",
              "    </tr>\n",
              "    <tr>\n",
              "      <th>3</th>\n",
              "      <td>3</td>\n",
              "      <td>0</td>\n",
              "    </tr>\n",
              "    <tr>\n",
              "      <th>4</th>\n",
              "      <td>4</td>\n",
              "      <td>0</td>\n",
              "    </tr>\n",
              "    <tr>\n",
              "      <th>...</th>\n",
              "      <td>...</td>\n",
              "      <td>...</td>\n",
              "    </tr>\n",
              "    <tr>\n",
              "      <th>734</th>\n",
              "      <td>734</td>\n",
              "      <td>0</td>\n",
              "    </tr>\n",
              "    <tr>\n",
              "      <th>735</th>\n",
              "      <td>735</td>\n",
              "      <td>0</td>\n",
              "    </tr>\n",
              "    <tr>\n",
              "      <th>736</th>\n",
              "      <td>736</td>\n",
              "      <td>0</td>\n",
              "    </tr>\n",
              "    <tr>\n",
              "      <th>737</th>\n",
              "      <td>737</td>\n",
              "      <td>0</td>\n",
              "    </tr>\n",
              "    <tr>\n",
              "      <th>738</th>\n",
              "      <td>738</td>\n",
              "      <td>0</td>\n",
              "    </tr>\n",
              "  </tbody>\n",
              "</table>\n",
              "<p>739 rows × 2 columns</p>\n",
              "</div>"
            ],
            "text/plain": [
              "     index  prediction\n",
              "0        0           0\n",
              "1        1           0\n",
              "2        2           0\n",
              "3        3           0\n",
              "4        4           0\n",
              "..     ...         ...\n",
              "734    734           0\n",
              "735    735           0\n",
              "736    736           0\n",
              "737    737           0\n",
              "738    738           0\n",
              "\n",
              "[739 rows x 2 columns]"
            ]
          },
          "metadata": {},
          "execution_count": 5
        }
      ]
    },
    {
      "cell_type": "code",
      "source": [
        "from sklearn.metrics import classification_report"
      ],
      "metadata": {
        "id": "_pXgyU2SYXpS"
      },
      "execution_count": 6,
      "outputs": []
    },
    {
      "cell_type": "code",
      "source": [
        "print(classification_report(list(dev_gold_label.Label), list(xlm_net_base_result.prediction), target_names = ['idiomatic','non-idiomatic']))"
      ],
      "metadata": {
        "colab": {
          "base_uri": "https://localhost:8080/"
        },
        "id": "qjauzUPdYjN6",
        "outputId": "29813f8c-efca-4b58-e6d8-1e478a5f89d2"
      },
      "execution_count": 7,
      "outputs": [
        {
          "output_type": "stream",
          "name": "stdout",
          "text": [
            "               precision    recall  f1-score   support\n",
            "\n",
            "    idiomatic       0.59      0.81      0.69       336\n",
            "non-idiomatic       0.78      0.54      0.64       403\n",
            "\n",
            "     accuracy                           0.66       739\n",
            "    macro avg       0.68      0.68      0.66       739\n",
            " weighted avg       0.69      0.66      0.66       739\n",
            "\n"
          ]
        }
      ]
    },
    {
      "cell_type": "code",
      "source": [
        "distilbert_base_result = pd.read_csv(\"/content/test_results_None_distil_bert.txt\",sep='\\t')\n",
        "xlm_roberta_result = pd.read_csv(\"/content/test_results_None_xlm_roberta_base.txt\",sep='\\t')\n"
      ],
      "metadata": {
        "id": "D6nIzITPYwYF"
      },
      "execution_count": 8,
      "outputs": []
    },
    {
      "cell_type": "code",
      "source": [
        "xlm_net_list = list(xlm_net_base_result.prediction)\n",
        "dbert_list = list(distilbert_base_result.prediction)\n",
        "xlmrob_list = list(xlm_roberta_result.prediction)"
      ],
      "metadata": {
        "id": "TYg-dGHYZGuK"
      },
      "execution_count": 12,
      "outputs": []
    },
    {
      "cell_type": "code",
      "source": [
        "new_list = []\n",
        "for i in range(len(bert_list)):\n",
        "  t1 = xlm_net_list[i] + dbert_list[i] + xlmrob_list[i]\n",
        "  if(t1>=2):\n",
        "    new_list.append(1)\n",
        "  else:\n",
        "    new_list.append(0)"
      ],
      "metadata": {
        "id": "Cbh-idcZZQYm"
      },
      "execution_count": 13,
      "outputs": []
    },
    {
      "cell_type": "code",
      "source": [
        "print(classification_report(list(dev_gold_label.Label), new_list, target_names = ['idiomatic','non-idiomatic']))"
      ],
      "metadata": {
        "colab": {
          "base_uri": "https://localhost:8080/"
        },
        "id": "Y-GLtiKBZjvu",
        "outputId": "62499be7-748e-4a7e-c3ae-66f8529bc2e8"
      },
      "execution_count": 14,
      "outputs": [
        {
          "output_type": "stream",
          "name": "stdout",
          "text": [
            "               precision    recall  f1-score   support\n",
            "\n",
            "    idiomatic       0.62      0.77      0.69       336\n",
            "non-idiomatic       0.76      0.61      0.68       403\n",
            "\n",
            "     accuracy                           0.68       739\n",
            "    macro avg       0.69      0.69      0.68       739\n",
            " weighted avg       0.70      0.68      0.68       739\n",
            "\n"
          ]
        }
      ]
    },
    {
      "cell_type": "markdown",
      "source": [
        "For English"
      ],
      "metadata": {
        "id": "G88820-W0RvV"
      }
    },
    {
      "cell_type": "code",
      "source": [
        "print(classification_report(list(dev_gold_label.Label)[:466], new_list[:466], target_names = ['idiomatic','non-idiomatic']))"
      ],
      "metadata": {
        "colab": {
          "base_uri": "https://localhost:8080/"
        },
        "id": "Bp1cnEGqZmvl",
        "outputId": "af414f68-90be-4485-a9ab-f24a4d9b3554"
      },
      "execution_count": 16,
      "outputs": [
        {
          "output_type": "stream",
          "name": "stdout",
          "text": [
            "               precision    recall  f1-score   support\n",
            "\n",
            "    idiomatic       0.65      0.65      0.65       182\n",
            "non-idiomatic       0.78      0.78      0.78       284\n",
            "\n",
            "     accuracy                           0.73       466\n",
            "    macro avg       0.71      0.71      0.71       466\n",
            " weighted avg       0.73      0.73      0.73       466\n",
            "\n"
          ]
        }
      ]
    },
    {
      "cell_type": "markdown",
      "source": [
        "For Portuguese"
      ],
      "metadata": {
        "id": "Nf1OrBLn0TH7"
      }
    },
    {
      "cell_type": "code",
      "source": [
        "print(classification_report(list(dev_gold_label.Label)[466:], new_list[466:], target_names = ['idiomatic','non-idiomatic']))"
      ],
      "metadata": {
        "colab": {
          "base_uri": "https://localhost:8080/"
        },
        "id": "dWPhIht60MWW",
        "outputId": "3ad95837-0d11-4d6a-983a-1f6a8ce3b544"
      },
      "execution_count": 17,
      "outputs": [
        {
          "output_type": "stream",
          "name": "stdout",
          "text": [
            "               precision    recall  f1-score   support\n",
            "\n",
            "    idiomatic       0.60      0.91      0.72       154\n",
            "non-idiomatic       0.65      0.22      0.33       119\n",
            "\n",
            "     accuracy                           0.61       273\n",
            "    macro avg       0.63      0.56      0.53       273\n",
            " weighted avg       0.62      0.61      0.55       273\n",
            "\n"
          ]
        }
      ]
    },
    {
      "cell_type": "code",
      "source": [
        ""
      ],
      "metadata": {
        "id": "zmnnBZ1u0PTF"
      },
      "execution_count": null,
      "outputs": []
    }
  ]
}